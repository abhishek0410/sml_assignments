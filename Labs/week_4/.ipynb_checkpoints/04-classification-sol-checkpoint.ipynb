{
 "cells": [
  {
   "cell_type": "markdown",
   "metadata": {},
   "source": [
    "### Classification\n",
    "\n",
    "**COMP4670/8600 &mdash; Statistical Machine Learning &mdash; Week 4**\n",
    "\n",
    "In this lab we will build, train, and test a logistic regression classifier.\n",
    "\n",
    "### Assumed knowledge:\n",
    "\n",
    "- Optimisation in Python (week 1 lab)\n",
    "- Regression (week 2 lab)\n",
    "- Binary classification with logistic regression (week 3 lectures)\n",
    "\n",
    "### After this lab, you should be comfortable with:\n",
    "\n",
    "- Implementing logistic regression\n",
    "- Practical binary classification problems"
   ]
  },
  {
   "cell_type": "code",
   "execution_count": 7,
   "metadata": {},
   "outputs": [],
   "source": [
    "import matplotlib.pyplot as plt\n",
    "import numpy as np\n",
    "import scipy.optimize as opt\n",
    "\n",
    "%matplotlib inline"
   ]
  },
  {
   "cell_type": "markdown",
   "metadata": {},
   "source": [
    "## The data set\n",
    "\n",
    "We will be working with the census-income dataset, which shows income levels for people in the 1994 US Census. We will predict whether a person has $\\leq \\$50000$ or $> \\$50000$ income per year.\n",
    "\n",
    "The data are included with this notebook as `04-dataset.tsv`, a textfile where in each row of data, the individual entries are delimited by tab characters. Download the data from the [course website](https://machlearn.gitlab.io/sml2019/tutorials/04-dataset.tsv)\n",
    "Load the data into a NumPy array called `data` using `numpy.genfromtxt`:\n",
    "\n",
    "```python\n",
    "    numpy.genfromtxt(filename)\n",
    "```\n",
    "\n",
    "The column names are given in the variable `columns` below.\n",
    "The `income` column are the targets, and the other columns will form our data used to try and guess the `income`"
   ]
  },
  {
   "cell_type": "code",
   "execution_count": 8,
   "metadata": {},
   "outputs": [],
   "source": [
    "columns = ['income', 'age', 'education', 'private-work', 'married', 'capital-gain', 'capital-loss', 'hours-per-week']"
   ]
  },
  {
   "cell_type": "code",
   "execution_count": 9,
   "metadata": {},
   "outputs": [],
   "source": [
    "data = np.genfromtxt(\"04-dataset.tsv\")"
   ]
  },
  {
   "cell_type": "markdown",
   "metadata": {},
   "source": [
    "## Recap - Binary classification\n",
    "\n",
    "The idea behind this lab is that for each person, we want to\n",
    "try and predict if their income is above the threshold of $\\$50,000$ or not,\n",
    "based on a series of other data about their person: `age, education,...`.\n",
    "\n",
    "As per usual, for the $n^\\text{th}$ row, the first entry is the target $t_n$, and the rest\n",
    "forms the data vector $\\mathbf{x}_n$\n",
    "\n",
    "We have two classes, $C_1$ representing the class of $ <\\$ 50,000$, which corresponds to\n",
    "a target of $t_n = 0$, and $C_2$, representing the class of $ >\\$50,000$, corresponding to\n",
    "a target of $t_n = 1$. Our objective is to learn a discriminative function $f_{\\mathbf{w}}(\\mathbf{x})$,\n",
    "parametrised by a weight vector $\\mathbf{w}$ that\n",
    "predicts which income class the person is in, based on the data given.\n",
    "\n",
    "We assume that each piece of information $(t_n, \\mathbf{x}_n)$ is i.i.d, and\n",
    "that there is some hidden probability distribution from which these target/data points are drawn.\n",
    "We will construct a likelihood function that indicates ``what is the likelihood that of this particular\n",
    "weight vector $\\mathbf{w}$, given that we have observed the training data $(t_n, \\mathbf{x}_n)$?''.\n",
    "$\\{t_1, t_2, \\ldots \\}$ would be generated?\"\n",
    "\n",
    "## Recap - Feature map, basis function\n",
    "\n",
    "Now some classes are not linearly seperable (we cannot draw a line such that all of one class is on one side,\n",
    "and all of the other class is on the other side). But by applying a fixed non-linear \n",
    "transformation to the inputs $\\mathbf{x}_i$ first, the result is usually linearly, for a suitable choice\n",
    "of transformation $\\phi$. (See week 3, pg 342 of the lecture slides).\n",
    "\n",
    "We let\n",
    "$$\n",
    "\\mathbf{\\phi}_n := \\phi(\\mathbf{x}_n)\n",
    "$$\n",
    "\n",
    "The result is linear in $\\phi$ but not in $\\mathbf{x}$, so we work in feature space rather than\n",
    "input space.\n",
    "For the case of two classes, we could guess that the target is a linear combination of the features,\n",
    "$$\n",
    "\\hat{t}_n = \\mathbf{w}^T \\mathbf{\\phi}_n\n",
    "$$\n",
    "but $\\mathbf{w}^T \\mathbf{\\phi}_n$ is a real number, and we want $\\hat{t}_n \\in \\{0,1\\}$.\n",
    "We could threshold the result,\n",
    "$$\n",
    "\\hat{t}_n =\n",
    "\\begin{cases}\n",
    "1 & \\mathbf{w}^T \\mathbf{\\phi}_n \\geq 0 \\\\\n",
    "0 & \\mathbf{w}^T \\mathbf{\\phi}_n < 0\n",
    "\\end{cases}\n",
    "$$\n",
    "but the discontinuity makes it impossible to define a sensible gradient. \n",
    "\n",
    "## Recap - Logistic Regression\n",
    "\n",
    "(We assume that the classes are already linearly seperable, and use our input space as our feature space.\n",
    "We also assume the data is i.i.d).\n",
    "\n",
    "Instead of using a hard threshold like above, in logistic regression\n",
    "we can use the sigmoid function $\\sigma(a)$\n",
    "$$\n",
    "\\sigma(a) := \\frac{1}{1 + e^{-a}}\n",
    "$$\n",
    "which has the intended effect of \"squishing\" the real line to the interval $[0,1]$.\n",
    "This gives a smooth version of the threshold function above, that we can differentiate.\n",
    "The numbers it returns can be interpreted as a probability of the estimated target $\\hat{t}$ belonging\n",
    "to a class $C_i$ given the element $\\phi$ of feature space. In the case of two classes, we define\n",
    "\\begin{align}\n",
    "p(C_1 | \\phi ) &:= \\sigma (\\mathbf{w}^T \\phi) \\\\\n",
    "p(C_2 | \\phi ) &:= 1 - p(C_1 | \\phi)\n",
    "\\end{align}\n",
    "\n",
    "\n",
    "\n",
    "The likelihood function $p(\\mathbf{t} | \\mathbf{w}, \\mathbf{x})$ is what we want to maximise as a function\n",
    "of $\\mathbf{w}$. Since $\\mathbf{x}$ is fixed, we usually write the likelihood function as $p(\\mathbf{t} | \\mathbf{w})$.\n",
    "\n",
    "$$\n",
    "\\begin{align}\n",
    "p(\\mathbf{t} | \\mathbf{w})\n",
    "&= \\prod_{i=1}^n p(t_i | \\mathbf{w}) \\\\\n",
    "&= \\prod_{i=1}^n \n",
    "\\begin{cases}\n",
    "p(C_1 | \\phi_i) & t_i = 1 \\\\\n",
    "p(C_2 | \\phi_i) & t_i = 0\n",
    "\\end{cases}\n",
    "\\end{align}\n",
    "$$\n",
    "Note that\n",
    "$$\n",
    "\\begin{cases}\n",
    " y_n & t_i = 1 \\\\\n",
    "1 - y_n & t_i = 0\n",
    "\\end{cases}\n",
    "= y_n^{t_n} (1-y_n)^{1-t-n}\n",
    "$$\n",
    "as if $t_n = 1$, then $y_n^1 (1-y_n)^{1-1} = y_n$ and if $t_n = 0$ then $y_n^0 (1-y_n)^{1-0} = 1-y_n$.\n",
    "This is why we use the strange encoding of $t_i=0$ corresponds to $C_2$ and $t_i=1$ corresponds to $C_1$.\n",
    "Hence, our likelihood function is \n",
    "$$\n",
    "p(\\mathbf{t} | \\mathbf{w}) = \\prod_{i=1}^N y_n^{t_n} (1-y_n)^{1-t-n}, \\quad y_n = \\sigma(\\mathbf{w}^T \\phi_n)\n",
    "$$\n",
    "This function is quite unpleasant to try and differentiate, but we note that $p(\\mathbf{t} | \\mathbf{w})$\n",
    "is maximised when $\\log p(\\mathbf{t} | \\mathbf{w})$ is maximised.\n",
    "\\begin{align}\n",
    "\\log p(\\mathbf{t} | \\mathbf{w}) \n",
    "&= \\log \\prod_{i=1}^N y_n^{t_n} (1-y_n)^{1-t-n} \\\\\n",
    "&= \\sum_{i=1}^N \\log \\left( y_n^{t_n} (1-y_n)^{1-t-n} \\right) \\\\\n",
    "&= \\sum_{i=1}^N \\left( t_n \\log y_n +  (1-t_n) \\log (1-y_n) \\right)\n",
    "\\end{align}\n",
    "Which is maximised when $- \\log p(\\mathbf{t} | \\mathbf{w})$ is minimised, giving us our error function.\n",
    "$$\n",
    "E(\\mathbf{w}) := - \\sum_{i=1}^N \\left( t_n \\log y_n +  (1-t_n) \\log (1-y_n) \\right)\n",
    "$$\n",
    "We can then take the derivative of this. As an exercise, you should do this (using the identity $\\sigma'(a) = \\sigma(a) \\left( 1- \\sigma(a) \\right)$ to simplify).\n",
    "$$\n",
    "\\nabla_\\mathbf{w} E(\\mathbf{w}) = \\sum_{i=1}^N (y_n - t_n) \\phi_n\n",
    "$$\n",
    "which you will note doesn't have any sigmoid functions.\n",
    "\n",
    "(We also usually divide the error by the number of data points, to obtain the average error. The error\n",
    "shouldn't get 10 times as large just because there is more data avaliable, so we should divide by the\n",
    "number of error points to reflect that.)\n",
    "\n",
    "## Recap - $L_2$ regularisation, Gaussian prior\n",
    "\n",
    "To help avoid overfitting, we can add a penalty term to the cost function of the form \n",
    "$\\frac{\\lambda}{2} ||\\mathbf{w}||^2$. By tweaking the value of $\\lambda$, we can indicate how\n",
    "much to penalise large terms in the weight vector $\\mathbf{w}$. Don't forget to take the regularistion term into\n",
    "account when you compute the corresponding gradient $\\nabla_\\mathbf{w} E(\\mathbf{w})$.\n"
   ]
  },
  {
   "cell_type": "markdown",
   "metadata": {},
   "source": [
    "## Explain logistic regression (10 minutes)\n",
    "\n",
    "Find a partner in your lab (or groups of 3). Take turns to explain the topics above to each other, without referring to the lab sheet. Be as precise as possible, by writing down the relevant equations.\n"
   ]
  },
  {
   "cell_type": "markdown",
   "metadata": {},
   "source": [
    "## Classification with logistic regression\n",
    "\n",
    "Implement binary classification using logistic regression and $L_2$ regularisation. Make sure you write good quality code with comments and docstrings where appropriate.\n",
    "\n",
    "Use ```scipy.optimize.fmin_bfgs``` to optimise your cost function. ```fmin_bfgs``` takes as arguments the cost function to be optimised, and a tuple of extra arguments to the cost function:\n",
    "\n",
    "```python\n",
    "    scipy.optimise.fmin_bfgs(cost_function, initial_guess, args=())\n",
    "```\n",
    "\n",
    "By following equations in lectures, implement three functions:\n",
    "\n",
    "- `grad(w, X, t, a)`, which calculates the gradient of the cost function,\n",
    "- `train(X, t, a)`, which returns the maximum likelihood weight vector, and\n",
    "- `test(w, X)`, which returns predicted class probabilities,\n",
    "\n",
    "where \n",
    "* $w$ is a weight vector, \n",
    "* $X$ is a matrix of examples, \n",
    "* $t$ is a vector of labels/targets, \n",
    "* $a$ is the regularisation weight. \n",
    "\n",
    "(We would use $\\lambda$ for the regularisation term, but `a` is easier to type than `lambda`, and\n",
    "`lambda` is a reserved keyword in python, for lambda functions).\n",
    "\n",
    "See below for expected usage.\n",
    "\n",
    "We add an extra column of ones to represent the bias term.\n",
    "\n",
    "## Note\n",
    "\n",
    "* You should use 80% of the data as your training set, and 20% of the data as your test set.\n",
    "* You also may want to normalise the data before hand. If the magnitude of $\\mathbf{w}^T \\phi_n$\n",
    "is very large, the gradient of $\\sigma(\\mathbf{w}^T \\phi_n)$ will be very near zero, which can\n",
    "cause convergence issues during numerical minimisation. If each element in a particular column is\n",
    "multiplied by a scalar (say, all elements of the `age` column) then the result is essentially the same\n",
    "as stretching the space in which the data lives. The model will also be proportionally stretched,\n",
    "but will not fundamentally change the behaviour. So by normalising each column, we can avoid\n",
    "issues related to numerical convergence."
   ]
  },
  {
   "cell_type": "code",
   "execution_count": 10,
   "metadata": {},
   "outputs": [
    {
     "data": {
      "text/plain": [
       "(32561, 9)"
      ]
     },
     "execution_count": 10,
     "metadata": {},
     "output_type": "execute_result"
    }
   ],
   "source": [
    "assert data.shape[1] == 8, 'you already ran this cell!'\n",
    "data = np.concatenate([data, np.ones((data.shape[0], 1))], axis=1)  # add a column of ones\n",
    "data.shape"
   ]
  },
  {
   "cell_type": "code",
   "execution_count": 35,
   "metadata": {},
   "outputs": [],
   "source": [
    "# solution\n",
    "\n",
    "import scipy.special\n",
    "\n",
    "def sigmoid(a):\n",
    "    return 1 / (1 + np.exp(-a))\n",
    "\n",
    "def train(X, t, a):\n",
    "    fprime = grad\n",
    "    return opt.fmin_bfgs(\n",
    "        f=cost, fprime=fprime, x0=np.random.normal(scale=0.2, size=(X.shape[1],)), args=(X, t, a), disp=0)\n",
    "\n",
    "def test(w, X):\n",
    "    return sigmoid(X @ w)\n",
    "\n",
    "def cost(w, X, t, a):\n",
    "    # binary cross-entropy loss is\n",
    "    # t log y + (1 - t) log (1 - y)\n",
    "    y = test(w, X)\n",
    "    \n",
    "    mask = (y > 0) & (y < 1)\n",
    "    \n",
    "    t = t[mask]\n",
    "    y = y[mask]\n",
    "   # print(\"Mask is : \", y)\n",
    "    # regularisation L2 penalty\n",
    "    l2 = (w**2).sum() * a / 2\n",
    "    likelihood = t @ np.log(y) + (1 - t) @ np.log(1 - y)\n",
    "    cost = l2 - likelihood\n",
    "    return cost\n",
    "\n",
    "##SELF SOLUTION ###\n",
    "###################\n",
    "\n",
    "def grad(w, X, t, a):\n",
    "    y = test(w, X)\n",
    "  #  print(\"Shape of X and y is : \",np.shape(X) , \" y is : \",np.shape(y) ,\"t is : \", np.shape(t))\n",
    "    print(\"Shape of the gradient is : \", (X * (y - t)[:, None]).sum(axis=0) + a * w)\n",
    "    return (X * (y - t)[:, None]).sum(axis=0) + a * w\n"
   ]
  },
  {
   "cell_type": "code",
   "execution_count": 36,
   "metadata": {},
   "outputs": [],
   "source": [
    "# solution \n",
    "\n",
    "N = np.shape(data)[0]\n",
    "num_train = int(0.8*N)\n",
    "y_train = data[:num_train,0]\n",
    "y_test = data[num_train:, 0]\n",
    "#32561\n",
    "norm_data = data[:, 1:] / data[:, 1:].sum(axis=0, keepdims=True)\n",
    "X_train = norm_data[:num_train, 1:]\n",
    "X_test = norm_data[num_train:, 1:]\n"
   ]
  },
  {
   "cell_type": "code",
   "execution_count": 37,
   "metadata": {},
   "outputs": [],
   "source": [
    "# # solution\n",
    "\n",
    "# # triangulate the implementation of grad() and cost():\n",
    "\n",
    "# def numerical_grad(f, x, *args):\n",
    "#     eps = 1e-5\n",
    "#     fx = f(x, *args)\n",
    "#     grad = np.zeros_like(x)\n",
    "#     for i in range(len(x)):\n",
    "#         xi = x.copy()\n",
    "#         xi[i] += eps\n",
    "#         fxi = f(xi, *args)\n",
    "#         grad[i] = (fxi-fx) / eps\n",
    "#     return grad\n",
    "\n",
    "# w = np.random.randn(X_train.shape[1])\n",
    "# for a in (0, 99):\n",
    "#     ga = grad(w, X_train, y_train, a)\n",
    "#     gn = numerical_grad(cost, w, X_train, y_train, a)\n",
    "#     plt.figure()\n",
    "#     plt.plot(ga, gn, '.')\n",
    "#     plt.xlabel('analytical gradient')\n",
    "#     plt.ylabel('numeritcal gradient')\n",
    "#     plt.title('a=%f' % a)\n",
    "#     assert np.allclose(ga, gn, rtol=1e-2, atol=1e-2), list(zip(ga, gn))\n",
    "# del a, w"
   ]
  },
  {
   "cell_type": "code",
   "execution_count": 38,
   "metadata": {},
   "outputs": [
    {
     "name": "stdout",
     "output_type": "stream",
     "text": [
      "Shape of the gradient is :  [ 0.18358124  0.22948462  0.03958026 -0.34315567 -0.04263766  0.18304035\n",
      "  0.24217572]\n",
      "Shape of the gradient is :  [ 0.16522054  0.20653221  0.03562039 -0.30874211 -0.03837359  0.16473356\n",
      "  0.21795515]\n",
      "Shape of the gradient is :  [ 0.12606401  0.15758346  0.02717578 -0.23537297 -0.02927986  0.12569205\n",
      "  0.16630162]\n",
      "Shape of the gradient is :  [ 0.03465378  0.04331392  0.0074628  -0.06415495 -0.0080505   0.03455043\n",
      "  0.04571709]\n",
      "Shape of the gradient is :  [ 1.43096701e-04  1.73615005e-04  2.14691869e-05  4.10489123e-04\n",
      " -3.54052940e-05  1.41315201e-04  1.91729512e-04]\n",
      "Shape of the gradient is :  [ 1.28665815e-04  1.56104303e-04  1.92895578e-05  3.69525162e-04\n",
      " -3.18376174e-05  1.27062892e-04  1.72399472e-04]\n",
      "Shape of the gradient is :  [ 9.81084325e-05  1.19033014e-04  1.46901244e-05  2.81770065e-04\n",
      " -2.42794964e-05  9.68857283e-05  1.31462949e-04]\n",
      "Shape of the gradient is :  [ 2.67731484e-05  3.24904232e-05  3.95848311e-06  7.69068423e-05\n",
      " -6.63433234e-06  2.64381962e-05  3.58956258e-05]\n",
      "Shape of the gradient is :  [-6.22107263e-09  1.23291771e-09 -6.32642633e-08 -9.85913740e-10\n",
      " -9.12490028e-09 -7.73322734e-09  1.67285875e-08]\n",
      "[-1.79389052 -2.25881091 -0.51415342  3.17457225  0.26087628 -1.84469169\n",
      " -2.0828591 ]\n"
     ]
    }
   ],
   "source": [
    "# solution\n",
    "\n",
    "w_train = train(X_train, y_train, 1e-1) #tweak regularisation parameter so weights are not big\n",
    "# y_guess = test(w_train, X_test)\n",
    "# print(y_guess)\n",
    "print(w_train)"
   ]
  },
  {
   "cell_type": "markdown",
   "metadata": {},
   "source": [
    "## Performance measure\n",
    "\n",
    "There are many ways to compute the performance of a binary classifier. The key concept is the idea of a confusion matrix:\n",
    "\n",
    "|     &nbsp;         | &nbsp;  | Label | &nbsp;  |\n",
    "|:-------------:|:--:|:-----:|:--:|\n",
    "|     &nbsp;         |  &nbsp;  |  0    | 1  |\n",
    "|**Prediction**| 0  |    TN | FN |\n",
    "|      &nbsp;        | 1  |    FP | TP |\n",
    "\n",
    "where\n",
    "* TP - true positive\n",
    "* FP - false positive\n",
    "* FN - false negative\n",
    "* TN - true negative\n",
    "\n",
    "Implement three functions:\n",
    "\n",
    "- `confusion_matrix(y_true, y_pred)`, which returns the confusion matrix as a list of lists given a list of true labels and a list of predicted labels;\n",
    "- `accuracy(cm)`, which takes a confusion matrix and returns the accuracy; and\n",
    "- `balanced_accuracy(cm)`, which takes a confusion matrix and returns the balanced accuracy.\n",
    "\n",
    "The accuracy is defined as $\\frac{TP + TN}{n}$, where $n$ is the total number of examples. The balanced accuracy is defined as $\\frac{1}{2}\\left(\\frac{TP}{P} + \\frac{TN}{N}\\right)$, where $T$ and $N$ are the total number of positive and negative examples respectively."
   ]
  },
  {
   "cell_type": "code",
   "execution_count": 9,
   "metadata": {},
   "outputs": [],
   "source": [
    "# solution\n",
    "def confusion_matrix(y_true, y_pred):\n",
    "    y_pred = y_pred > 0.5\n",
    "    y_true = y_true > 0.5\n",
    "    tp = ((y_true == y_pred) & (y_true)).sum()\n",
    "    tn = ((y_true == y_pred) & (~y_true)).sum()\n",
    "    fp = ((y_true != y_pred) & (~y_true)).sum()\n",
    "    fn = ((y_true != y_pred) & (y_true)).sum()\n",
    "    return [[tn, fn], [fp, tp]]\n",
    "\n",
    "def accuracy(cm):\n",
    "    (TN, FN), (FP, TP) = cm\n",
    "    return (TN + TP) / (TN + FN + FP + TP)\n",
    "\n",
    "def balanced_accuracy(cm):\n",
    "    (TN, FN), (FP, TP) = cm\n",
    "    return (TN / (TN + FP) + TP / (TP + FN)) / 2"
   ]
  },
  {
   "cell_type": "markdown",
   "metadata": {},
   "source": [
    "## Accuracy vs balanced accuracy\n",
    "\n",
    "What is the purpose of balanced accuracy? When might you prefer it to accuracy?"
   ]
  },
  {
   "cell_type": "markdown",
   "metadata": {},
   "source": [
    "### solution\n",
    "Balanced accuracy accounts for class imbalance. In the extreme case, you would use it if you have imbalanced classes.\n",
    "For example, suppose you had some model that you were trying to learn if a patient had cancer based on\n",
    "MRI scan data, and the prior probability on any one person having cancer is 0.1%.\n",
    "Out of thousands of training examples, only a handful might actually have cancer. By just making the model always\n",
    "say \"no, this person doesn't have cancer\" it's already 99.9% accurate. During training, the model may just \n",
    "naturally do this, by overfitting to the cases where cancer was not present.\n",
    "But the penalty for a false positive \n",
    "(the model says you have cancer when you don't) is far less bad than a false negative (the model says you are okay when you do have cancer). So we need our accuracy to be weighted by the number of training examples."
   ]
  },
  {
   "cell_type": "markdown",
   "metadata": {},
   "source": [
    "## Putting everything together\n",
    "\n",
    "Consider the following code, which trains on all the examples, predicts on the training set, and then computes the accuracy and balanced accuracy. Discuss the results."
   ]
  },
  {
   "cell_type": "code",
   "execution_count": 10,
   "metadata": {},
   "outputs": [
    {
     "data": {
      "text/plain": [
       "[0.7859665284814985, 0.7555762338020402]"
      ]
     },
     "execution_count": 11,
     "metadata": {},
     "output_type": "execute_result"
    }
   ],
   "source": [
    "# solution\n",
    "\n",
    "cmatrix = confusion_matrix(y_guess, y_test)\n",
    "[accuracy(cmatrix), balanced_accuracy(cmatrix)]"
   ]
  },
  {
   "cell_type": "markdown",
   "metadata": {},
   "source": [
    "### solution\n",
    "We get higher accuracy than balanced accuracy. This means that our data are class-imbalanced, and logistic regression may be over-fitting."
   ]
  },
  {
   "cell_type": "markdown",
   "metadata": {},
   "source": [
    "## Looking back at the prediction task\n",
    "\n",
    "Based on your results, what feature of the dataset is most useful for determining the income level? What feature is least useful? Why?"
   ]
  },
  {
   "cell_type": "code",
   "execution_count": 11,
   "metadata": {},
   "outputs": [
    {
     "name": "stdout",
     "output_type": "stream",
     "text": [
      "['income', 'age', 'education', 'private-work', 'married', 'capital-gain', 'capital-loss', 'hours-per-week'] [-1.79389043 -2.25881083 -0.51415332  3.17457224  0.26087606 -1.84469165\n",
      " -2.08285926]\n"
     ]
    },
    {
     "data": {
      "image/png": "[encoded data removed]",
      "text/plain": [
       "<Figure size 432x288 with 1 Axes>"
      ]
     },
     "metadata": {
      "needs_background": "light"
     },
     "output_type": "display_data"
    }
   ],
   "source": [
    "# solution\n",
    "plt.bar(range(len(w_train)), abs(w_train))\n",
    "plt.ylabel('importance')\n",
    "plt.xlabel('feature')\n",
    "plt.xticks(range(len(w_train)), columns[1:] + ['bias'], rotation='vertical');\n",
    "print(columns,w_train)"
   ]
  },
  {
   "cell_type": "markdown",
   "metadata": {},
   "source": [
    "### solution\n",
    "\n",
    "The most important feature is **married** because it has the highest weight. (we ignore the bias term, as it just helps to shift the logistic regressor to help seperate the two classes. It doesn't actually correspond to any input data."
   ]
  },
  {
   "cell_type": "code",
   "execution_count": 12,
   "metadata": {},
   "outputs": [],
   "source": []
  }
 ],
 "metadata": {
  "kernelspec": {
   "display_name": "Python 3",
   "language": "python",
   "name": "python3"
  },
  "language_info": {
   "codemirror_mode": {
    "name": "ipython",
    "version": 3
   },
   "file_extension": ".py",
   "mimetype": "text/x-python",
   "name": "python",
   "nbconvert_exporter": "python",
   "pygments_lexer": "ipython3",
   "version": "3.7.1"
  }
 },
 "nbformat": 4,
 "nbformat_minor": 2
}
