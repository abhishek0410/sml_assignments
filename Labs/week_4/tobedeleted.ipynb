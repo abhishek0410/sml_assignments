{
 "cells": [
  {
   "cell_type": "code",
   "execution_count": 192,
   "metadata": {},
   "outputs": [],
   "source": [
    "import numpy as np\n",
    "import matplotlib.pyplot as plt\n",
    "import numpy as np\n",
    "import scipy.optimize as opt"
   ]
  },
  {
   "cell_type": "code",
   "execution_count": 193,
   "metadata": {},
   "outputs": [],
   "source": [
    "##Importing the data and making the necessary changes : \n",
    "columns = ['income', 'age', 'education', 'private-work', 'married', 'capital-gain', 'capital-loss', 'hours-per-week']\n",
    "data = np.genfromtxt(\"04-dataset.tsv\")"
   ]
  },
  {
   "cell_type": "code",
   "execution_count": 194,
   "metadata": {},
   "outputs": [
    {
     "data": {
      "text/plain": [
       "(32561, 9)"
      ]
     },
     "execution_count": 194,
     "metadata": {},
     "output_type": "execute_result"
    }
   ],
   "source": [
    "\n",
    "assert data.shape[1] == 8, 'you already ran this cell!'\n",
    "data = np.concatenate([data, np.ones((data.shape[0], 1))], axis=1)  # add a column of ones\n",
    "data.shape"
   ]
  },
  {
   "cell_type": "code",
   "execution_count": 195,
   "metadata": {},
   "outputs": [],
   "source": [
    "##Writing the gradient function \n",
    "#  weight vector\n",
    "#X Mapping ,assumption is that mapping will already be there \n",
    "#Target values\n",
    "#Actual Output \n",
    "\n",
    "##The name test is very confusing  here .It just means run the model with the weights as given in parameters : \n",
    "def test(w,X):\n",
    "    #print(\"Inside the test(w,X) function \")\n",
    "    return(sigmoid(X@w))\n",
    "\n",
    "##The return of this function will actually return the optimal weights\n",
    "def train(X,t,a):\n",
    "    #print(\"Inside the train function \")\n",
    "    fprime = gradient\n",
    "    return opt.fmin_bfgs(  \n",
    "    f = cost , fprime = fprime , x0=np.random.normal(scale =0.2 ,size =(X.shape[1],)),args=(X,t,a),disp = 0)\n",
    "\n",
    "def sigmoid(a):\n",
    "    #print(\"Inside sigmoid(a) function : \")\n",
    "    return 1/(1+np.exp(-a))\n",
    "\n",
    "##SELF SOLUTION ###\n",
    "###################\n",
    "def cost(w,X,t,a):\n",
    "    #print(\"Inside cost(w,X,t,a) function : the shape of the arguments are :\",np.shape(X))\n",
    "    #binary cross-entropy loss is \n",
    "\n",
    "    y = test(w,X)\n",
    "    #Below was not actually required ,because sigmoid anyway squashes a value between 0 and 1.But still following \n",
    "    #along the lecture code\n",
    "    mask = (y>0) & (y<1)\n",
    "    t = t[mask]\n",
    "    y = y[mask]\n",
    "    \n",
    "    \n",
    "    #regularisation and L2 penalty\n",
    "    #l2 = (w@w)*a/2\n",
    "    l2 = (w**2).sum() * a / 2\n",
    "    likelihood = t@np.log(y) +(1-t)@np.log(1-y)\n",
    "    cost_function = -likelihood + l2\n",
    "    return cost_function \n",
    "    \n",
    "#This would go as an input to scipy.optimize.fmin_bfgs\n",
    "##SELF SOLUTION ###\n",
    "###################\n",
    "\n",
    "def gradient(w,X,t,a): \n",
    "    y = sigmoid(X@w)\n",
    "    #print(\"In gradient() , shape of x is :\",np.shape(np.transpose(X)) ,\"and w  is : \",np.shape((np.transpose(X)@(y-t)).sum(axis=0) + a *w))\n",
    "    #print(\"And the value of w is : \",(np.transpose(X)@(y-t)).sum(axis=0) + a *w) \n",
    "    #return (X * (y - t)[:, None]).sum(axis=0) + a * w\n",
    "    return ((np.transpose(X)@(y-t)) + a *w)\n"
   ]
  },
  {
   "cell_type": "code",
   "execution_count": 196,
   "metadata": {},
   "outputs": [],
   "source": [
    "##Running the model : \n",
    "##Taking 80% as the Training data and 20% Testing Data.\n",
    "N = np.shape(data)[0] #No. of rows in the data\n",
    "num_train = int(N*0.8) #26048\n",
    "num_test = int(N*0.2)  #6512\n",
    "\n",
    "##Normalising the data : \n",
    "data_NORMALISED = data[:,1:]/data[:,1:].sum(axis=0,keepdims =True)\n",
    "\n",
    "x_train = data_NORMALISED[:num_train ,1:]\n",
    "x_test = data_NORMALISED[:num_test,1:]\n",
    "\n",
    "\n",
    "##data is used below because data_NORMALISED has no income field, see the slicing above.\n",
    "y_train = data[:num_train, 0]\n",
    "y_test = data[:num_test, 0]"
   ]
  },
  {
   "cell_type": "code",
   "execution_count": 199,
   "metadata": {},
   "outputs": [],
   "source": [
    "##Graph between analytical gradient and numerical gradient left for now . \n",
    "##See this space for the second iteration . "
   ]
  },
  {
   "cell_type": "code",
   "execution_count": 201,
   "metadata": {},
   "outputs": [
    {
     "name": "stdout",
     "output_type": "stream",
     "text": [
      "[0.50000141 0.49995336 0.49993282 ... 0.49992722 0.49995287 0.49994228]\n",
      "[-1.79389055 -2.25881082 -0.51415345  3.17457225  0.26087634 -1.84469167\n",
      " -2.08285924]\n"
     ]
    }
   ],
   "source": [
    "#Running the code : \n",
    "w_train = train(x_train, y_train, 1e-1) #tweak regularisation parameter so weights are not big\n",
    "y_guess = test(w_train, x_test)\n",
    "#print(y_guess)\n",
    "#print(w_train)"
   ]
  },
  {
   "cell_type": "code",
   "execution_count": 277,
   "metadata": {},
   "outputs": [],
   "source": [
    "##Writing the Confusion Matrix \n",
    "##We will use a threshold of 0.5 for the data to be predicted as 1 , and 0 otherwise : \n",
    "def confusion_matrix(y_true, y_pred): \n",
    "    y_pred[y_pred >= 0.5] = 1\n",
    "    y_pred[y_pred < 0.5] = 0\n",
    "    true_positives = np.sum(np.array(y_pred==1) & np.array(y_pred ==y_true))\n",
    "    true_negatives = np.sum(np.array(y_pred==0) & np.array(y_pred ==y_true))\n",
    "    false_positives = np.sum(np.array(y_pred==1) & np.array(y_pred !=y_true))\n",
    "    false_negatives = np.sum(np.array(y_pred==0) & np.array(y_pred !=y_true))\n",
    "    return np.array([[true_negatives ,false_negatives],[false_positives,true_positives]])\n",
    "    \n",
    "    \n",
    "def accuracy(confusion_matrix): \n",
    "    total_correct = confusion_matrix[0][0]+confusion_matrix[1][1]\n",
    "    return  total_correct/np.sum(confusion_matrix)\n",
    "    \n"
   ]
  },
  {
   "cell_type": "code",
   "execution_count": 278,
   "metadata": {},
   "outputs": [],
   "source": [
    "#Calculating the accuracy :\n",
    "cm = confusion_matrix(y_test , y_guess)\n",
    "result = accuracy(cm)"
   ]
  },
  {
   "cell_type": "code",
   "execution_count": 279,
   "metadata": {},
   "outputs": [
    {
     "name": "stdout",
     "output_type": "stream",
     "text": [
      "0.7893120393120393\n"
     ]
    }
   ],
   "source": [
    "print(result)"
   ]
  },
  {
   "cell_type": "code",
   "execution_count": 263,
   "metadata": {},
   "outputs": [
    {
     "name": "stdout",
     "output_type": "stream",
     "text": [
      "[ True False False ... False False False]\n"
     ]
    }
   ],
   "source": [
    "y_guess = y_pred\n",
    "y_pred[y_pred >= 0.5] = 1\n",
    "y_pred[y_pred < 0.5] = 0\n",
    "print(y_pred==1)\n",
    "#print(y_test == y_guess)\n",
    "#print(y_pred==1 &  y_pred == y_test)"
   ]
  },
  {
   "cell_type": "code",
   "execution_count": 276,
   "metadata": {},
   "outputs": [
    {
     "data": {
      "text/plain": [
       "array([False, False, False, ..., False, False, False])"
      ]
     },
     "execution_count": 276,
     "metadata": {},
     "output_type": "execute_result"
    }
   ],
   "source": [
    "np.array(y_pred==1) & np.array(y_pred == y_test)\n",
    "#type(y_pred==1)\n",
    "#y_pred == y_test"
   ]
  },
  {
   "cell_type": "code",
   "execution_count": 274,
   "metadata": {},
   "outputs": [
    {
     "data": {
      "text/plain": [
       "array([ True, False])"
      ]
     },
     "execution_count": 274,
     "metadata": {},
     "output_type": "execute_result"
    }
   ],
   "source": [
    "np.array([True ,False]) & np.array([True, True])"
   ]
  },
  {
   "cell_type": "code",
   "execution_count": 246,
   "metadata": {},
   "outputs": [
    {
     "name": "stdout",
     "output_type": "stream",
     "text": [
      "2\n"
     ]
    }
   ],
   "source": [
    "y = np.array([0,1,2,4,5,6,7,8])\n",
    "# if(y>4):\n",
    "#     print(\"Hello world\")\n",
    "# y[(y>4)] =1\n",
    "# print(y)\n",
    "a = np.array([[1,2],[3,5]])\n",
    "print(a[0][1])\n",
    "# print(np.sum(a))\n",
    "\n",
    "\n",
    "# print(2!=4)\n"
   ]
  },
  {
   "cell_type": "code",
   "execution_count": 247,
   "metadata": {},
   "outputs": [
    {
     "data": {
      "text/plain": [
       "1"
      ]
     },
     "execution_count": 247,
     "metadata": {},
     "output_type": "execute_result"
    }
   ],
   "source": [
    "y = np.array([0,1,2,4,5,6,7,8])\n",
    "np.sum(y>7)"
   ]
  },
  {
   "cell_type": "code",
   "execution_count": null,
   "metadata": {},
   "outputs": [],
   "source": []
  },
  {
   "cell_type": "code",
   "execution_count": null,
   "metadata": {},
   "outputs": [],
   "source": []
  }
 ],
 "metadata": {
  "kernelspec": {
   "display_name": "Python 3",
   "language": "python",
   "name": "python3"
  },
  "language_info": {
   "codemirror_mode": {
    "name": "ipython",
    "version": 3
   },
   "file_extension": ".py",
   "mimetype": "text/x-python",
   "name": "python",
   "nbconvert_exporter": "python",
   "pygments_lexer": "ipython3",
   "version": "3.6.8"
  }
 },
 "nbformat": 4,
 "nbformat_minor": 2
}
