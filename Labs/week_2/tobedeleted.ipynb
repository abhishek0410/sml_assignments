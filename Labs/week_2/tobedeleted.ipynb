{
 "cells": [
  {
   "cell_type": "code",
   "execution_count": 2,
   "metadata": {},
   "outputs": [],
   "source": [
    "import numpy as np \n"
   ]
  },
  {
   "cell_type": "code",
   "execution_count": 3,
   "metadata": {},
   "outputs": [],
   "source": [
    "def split_data(dataset): \n",
    "    a = len(dataset)\n",
    "    index_old = np.arange(a)\n",
    "    index = np.random.shuffle(index)\n",
    "    trainSetIndex = index[0:]\n",
    "    "
   ]
  },
  {
   "cell_type": "code",
   "execution_count": 10,
   "metadata": {},
   "outputs": [
    {
     "name": "stdout",
     "output_type": "stream",
     "text": [
      "index is  [5 4 0 2 3 6 1] its type is <class 'numpy.ndarray'>\n",
      "trainSetIndex is  [5 4 0]\n"
     ]
    }
   ],
   "source": [
    "dataset = np.ndarray(shape =(7,3)) \n",
    "a = len(dataset)\n",
    "index = np.arange(a)\n",
    "\n",
    "\n",
    "np.random.shuffle(index)\n",
    "print(\"index is \",index , \"its type is\",type(index))\n",
    "\n",
    "trainSetIndex = index[0:int(0.5*a)]\n",
    "testSetIndex = index[int(0.5*a) :]\n",
    "print(\"trainSetIndex is \",trainSetIndex)\n",
    "\n",
    "X_train = dataset[trainSetIndex,1:]\n"
   ]
  },
  {
   "cell_type": "code",
   "execution_count": null,
   "metadata": {},
   "outputs": [],
   "source": []
  },
  {
   "cell_type": "code",
   "execution_count": 6,
   "metadata": {},
   "outputs": [
    {
     "name": "stdout",
     "output_type": "stream",
     "text": [
      "[0 1 2 3 4]\n"
     ]
    }
   ],
   "source": [
    "a = np.arange(5)\n",
    "print(a)"
   ]
  },
  {
   "cell_type": "code",
   "execution_count": 11,
   "metadata": {},
   "outputs": [
    {
     "name": "stdout",
     "output_type": "stream",
     "text": [
      "60\n"
     ]
    }
   ],
   "source": [
    "a = np.arange(25).reshape(5,5)\n",
    "print(np.einsum(\"ii\",a))\n"
   ]
  },
  {
   "cell_type": "code",
   "execution_count": 21,
   "metadata": {},
   "outputs": [
    {
     "data": {
      "text/plain": [
       "array([[ 0.00000000e+000,  3.95252517e-323,              nan,\n",
       "        -1.65389342e+304,  2.31285897e-212,  5.10320380e-202,\n",
       "        -8.25734989e+303, -2.90197360e-213,  6.92213390e-310],\n",
       "       [ 6.92213164e-310,  7.26885077e-273,  6.92213390e-310,\n",
       "         6.92213079e-310,  8.76089845e+232,  6.92213390e-310,\n",
       "         6.92213164e-310, -1.08941573e-235,  6.92213427e-310],\n",
       "       [ 6.92213164e-310, -3.74807198e-161,  6.92213390e-310,\n",
       "         6.92213079e-310, -9.84939931e-145,  6.92213450e-310,\n",
       "         6.92213402e-310, -6.53122871e-069,  6.92213593e-310],\n",
       "       [ 6.92213080e-310, -3.58653977e-226,  6.92213590e-310,\n",
       "         6.92213080e-310, -6.82949560e+292,  6.92213592e-310,\n",
       "         6.92213591e-310, -7.21725986e+199,  6.92213592e-310],\n",
       "       [ 6.92213391e-310,  3.12336167e-224,  6.92213593e-310,\n",
       "         4.63889457e-310,  7.32700416e-003,  6.92213593e-310,\n",
       "         4.63889457e-310,  4.72245397e-011,  6.92213593e-310],\n",
       "       [ 4.63889457e-310, -5.38277724e+012,  6.92213446e-310,\n",
       "         6.92213593e-310,  8.65190034e-048,  6.92213592e-310,\n",
       "         6.92213593e-310,  0.00000000e+000,  0.00000000e+000],\n",
       "       [ 0.00000000e+000,  9.88131292e-324,  6.92211672e-310,\n",
       "         6.92195027e-310, -1.49435577e-067,  6.92213390e-310,\n",
       "         6.92211672e-310,  8.78236804e-237,  6.92213375e-310],\n",
       "       [ 6.92211732e-310,  1.03489616e+204,  6.92213375e-310,\n",
       "         6.92211731e-310,  7.56733736e+051,  6.92213375e-310,\n",
       "         6.92211732e-310, -4.16826279e+037,  6.92212954e-310]])"
      ]
     },
     "execution_count": 21,
     "metadata": {},
     "output_type": "execute_result"
    }
   ],
   "source": [
    "a"
   ]
  },
  {
   "cell_type": "code",
   "execution_count": 20,
   "metadata": {},
   "outputs": [
    {
     "name": "stdout",
     "output_type": "stream",
     "text": [
      "8\n"
     ]
    }
   ],
   "source": [
    "print(len(a))"
   ]
  },
  {
   "cell_type": "code",
   "execution_count": null,
   "metadata": {},
   "outputs": [],
   "source": []
  }
 ],
 "metadata": {
  "kernelspec": {
   "display_name": "Python 3",
   "language": "python",
   "name": "python3"
  },
  "language_info": {
   "codemirror_mode": {
    "name": "ipython",
    "version": 3
   },
   "file_extension": ".py",
   "mimetype": "text/x-python",
   "name": "python",
   "nbconvert_exporter": "python",
   "pygments_lexer": "ipython3",
   "version": "3.7.1"
  }
 },
 "nbformat": 4,
 "nbformat_minor": 2
}
