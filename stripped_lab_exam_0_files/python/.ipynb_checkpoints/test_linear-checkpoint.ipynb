{
 "cells": [
  {
   "cell_type": "code",
   "execution_count": 29,
   "metadata": {},
   "outputs": [],
   "source": [
    "\n",
    "import numpy as np\n",
    "\n",
    "\n",
    "def linear_least_squares(x, y):\n",
    "        Phi = x.T\n",
    "        t = y\n",
    "        return np.linalg.inv(Phi.T @ Phi) @ Phi.T @ t\n"
   ]
  },
  {
   "cell_type": "code",
   "execution_count": 43,
   "metadata": {},
   "outputs": [
    {
     "ename": "TabError",
     "evalue": "inconsistent use of tabs and spaces in indentation (<ipython-input-43-23163792050a>, line 45)",
     "output_type": "error",
     "traceback": [
      "\u001b[0;36m  File \u001b[0;32m\"<ipython-input-43-23163792050a>\"\u001b[0;36m, line \u001b[0;32m45\u001b[0m\n\u001b[0;31m    print(y,y_student)\u001b[0m\n\u001b[0m                      ^\u001b[0m\n\u001b[0;31mTabError\u001b[0m\u001b[0;31m:\u001b[0m inconsistent use of tabs and spaces in indentation\n"
     ]
    }
   ],
   "source": [
    "import numpy as np\n",
    "import traceback\n",
    "import sys\n",
    "\n",
    "\n",
    "\n",
    "def test_linear(x, y, w_true):\n",
    "\n",
    "\t################################################\n",
    "\t#\n",
    "\t# INPUTS:\n",
    "\t#\tx: input data, shape d by n\n",
    "\t#   y: output targets, shape n by 1\n",
    "\t#   w_true: true weights, shape d by 1, or None\n",
    "\t#\n",
    "\t#  OUTPUTS:\n",
    "\t#   w: linear regression weights, d by 1\n",
    "\t#\n",
    "\t################################################\n",
    "\n",
    "\td, n = x.shape\n",
    "\tassert y.shape == (n, 1)\n",
    "\n",
    "\ttry:\n",
    "\t\t# call the student's code:\n",
    "\t\tw_student =linear_least_squares(x, y)\n",
    "\texcept:\n",
    "\t\t# the student's code raised an exception:\n",
    "\t\ttraceback.print_exc()\n",
    "\t\treturn False\n",
    "\n",
    "\n",
    "\tassert w_student.shape == (d, 1)\n",
    "\n",
    "\n",
    "\tif w_true is not None:\n",
    "\t\t# check if the correct weights have been calculated:\n",
    "\t\tw_matches = np.allclose(w, w_student)\n",
    "\t\tprint('w_matches', w_matches)\n",
    "\t\treturn w_matches\n",
    "\telse:\n",
    "\t\t# check if the predictions match on the training data:\n",
    "\t\ty_student = np.dot(x.T, w_student)\n",
    "\t\ty_matches = np.allclose(y,y_student)\n",
    "\t\tprint(y,y_student)\n",
    "\t\tprint('y_matches',y_matches)\n",
    "\t\treturn y_matches\n",
    "\n",
    "\n",
    "def random_data(d, n):\n",
    "\tprint('d = %i n = %i' % (d, n))\n",
    "\t# linear model weights:\n",
    "\tw_true = np.random.randn(d, 1)\n",
    "\t# input datapoints:\n",
    "\tx = np.random.randn(d, n)\n",
    "\t# scalar outputs:\n",
    "\ty = np.dot(x.T, w_true)\n",
    "\treturn x, y, w_true\n",
    "\n",
    "\n",
    "if __name__ == '__main__':\n",
    "\n",
    "\ttotal_marks = 0\n",
    "\n",
    "\tprint('First test:')\n",
    "\tx, y, w = random_data(d=2, n=3)\n",
    "\tif test_linear(x=x, y=y, w_true=w):\n",
    "\t\tprint('passed')\n",
    "\t\ttotal_marks = total_marks + 1\n",
    "\telse:\n",
    "\t\tprint('failed')\n",
    "\tprint()\n",
    "\n",
    "\tprint('Second test:')\n",
    "\tx, y, w = random_data(d=2, n=1)\n",
    "\tif test_linear(x=x, y=y, w_true=None):\n",
    "\t\tprint('passed')\n",
    "\t\ttotal_marks = total_marks + 1\n",
    "\telse:\n",
    "\t\tprint('failed')\n",
    "\tprint()\n",
    "\n",
    "\tprint('Tests completed, total_marks =', total_marks)\n",
    "\n",
    "\n"
   ]
  },
  {
   "cell_type": "code",
   "execution_count": null,
   "metadata": {},
   "outputs": [],
   "source": []
  },
  {
   "cell_type": "code",
   "execution_count": null,
   "metadata": {},
   "outputs": [],
   "source": []
  },
  {
   "cell_type": "code",
   "execution_count": null,
   "metadata": {},
   "outputs": [],
   "source": []
  }
 ],
 "metadata": {
  "kernelspec": {
   "display_name": "Python 3",
   "language": "python",
   "name": "python3"
  },
  "language_info": {
   "codemirror_mode": {
    "name": "ipython",
    "version": 3
   },
   "file_extension": ".py",
   "mimetype": "text/x-python",
   "name": "python",
   "nbconvert_exporter": "python",
   "pygments_lexer": "ipython3",
   "version": "3.7.1"
  }
 },
 "nbformat": 4,
 "nbformat_minor": 2
}
